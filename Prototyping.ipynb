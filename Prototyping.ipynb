{
 "cells": [
  {
   "cell_type": "markdown",
   "source": [
    "First day prototyping"
   ],
   "metadata": {
    "collapsed": false
   }
  },
  {
   "cell_type": "code",
   "execution_count": 3,
   "metadata": {
    "collapsed": true,
    "ExecuteTime": {
     "end_time": "2023-12-01T13:49:32.175902800Z",
     "start_time": "2023-12-01T13:49:31.779486300Z"
    }
   },
   "outputs": [
    {
     "name": "stdout",
     "output_type": "stream",
     "text": [
      "true\r\n",
      "false\r\n",
      "123\r\n"
     ]
    }
   ],
   "source": [
    "println('1'.isDigit())\n",
    "println('a'.isDigit())\n",
    "\n",
    "val test = \"a1b2c3\".filter { it.isDigit() }\n",
    "println(test)"
   ]
  }
 ],
 "metadata": {
  "kernelspec": {
   "display_name": "Kotlin",
   "language": "kotlin",
   "name": "kotlin"
  },
  "language_info": {
   "name": "kotlin",
   "version": "1.9.0",
   "mimetype": "text/x-kotlin",
   "file_extension": ".kt",
   "pygments_lexer": "kotlin",
   "codemirror_mode": "text/x-kotlin",
   "nbconvert_exporter": ""
  }
 },
 "nbformat": 4,
 "nbformat_minor": 0
}
